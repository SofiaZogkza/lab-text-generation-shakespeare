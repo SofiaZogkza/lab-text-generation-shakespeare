{
  "cells": [
    {
      "cell_type": "markdown",
      "metadata": {
        "id": "CjjtCxMP9x3t"
      },
      "source": [
        "# Lab | Text Generation from Shakespeare's Sonnet\n",
        "\n",
        "This notebook explores the fascinating domain of text generation using a deep learning model trained on Shakespeare's sonnets.\n",
        "\n",
        "The objective is to create a neural network capable of generating text sequences that mimic the style and language of Shakespeare.\n",
        "\n",
        "By utilizing a Recurrent Neural Network (RNN) with Long Short-Term Memory (LSTM) layers, this project aims to demonstrate how a model can learn and replicate the complex patterns of early modern English.\n",
        "\n",
        "The dataset used consists of Shakespeare's sonnets, which are preprocessed and tokenized to serve as input for the model.\n",
        "\n",
        "Throughout this notebook, you will see the steps taken to prepare the data, build and train the model, and evaluate its performance in generating text.\n",
        "\n",
        "This lab provides a hands-on approach to understanding the intricacies of natural language processing (NLP) and the potential of machine learning in creative text generation."
      ]
    },
    {
      "cell_type": "code",
      "source": [
        "from google.colab import drive\n",
        "drive.mount('/content/drive')"
      ],
      "metadata": {
        "id": "vGK2zTW5-cKh"
      },
      "execution_count": null,
      "outputs": []
    },
    {
      "cell_type": "code",
      "source": [],
      "metadata": {
        "id": "XkGc_NeL_Di-"
      },
      "execution_count": null,
      "outputs": []
    },
    {
      "cell_type": "markdown",
      "metadata": {
        "id": "oj4vldbL9x3v"
      },
      "source": [
        "\n",
        "\n",
        "```\n",
        "# This is formatted as code\n",
        "```\n",
        "\n",
        "Let's import necessary libraries"
      ]
    },
    {
      "cell_type": "code",
      "execution_count": null,
      "metadata": {
        "id": "BOwsuGQQY9OL",
        "tags": []
      },
      "outputs": [],
      "source": [
        "from tensorflow.keras.preprocessing.sequence import pad_sequences\n",
        "from tensorflow.keras.layers import Embedding, LSTM, Dense, Dropout, Bidirectional\n",
        "from tensorflow.keras.preprocessing.text import Tokenizer\n",
        "from tensorflow.keras.models import Sequential\n",
        "from tensorflow.keras.optimizers import Adam\n",
        "from tensorflow.keras import regularizers\n",
        "import tensorflow.keras.utils as ku\n",
        "import numpy as np"
      ]
    },
    {
      "cell_type": "markdown",
      "metadata": {
        "id": "Lqu0CyC59x3x"
      },
      "source": [
        "Let's get the data!"
      ]
    },
    {
      "cell_type": "code",
      "execution_count": null,
      "metadata": {
        "tags": [],
        "id": "IWPUgcPT9x3x"
      },
      "outputs": [],
      "source": [
        "import requests\n",
        "url = 'https://raw.githubusercontent.com/martin-gorner/tensorflow-rnn-shakespeare/master/shakespeare/sonnets.txt'\n",
        "resp = requests.get(url)\n",
        "with open('sonnets.txt', 'wb') as f:\n",
        "    f.write(resp.content)\n",
        "\n",
        "data = open('sonnets.txt').read()\n",
        "\n",
        "corpus = data.lower().split(\"\\n\")"
      ]
    },
    {
      "cell_type": "code",
      "source": [
        "print(type(data))\n",
        "print(len(data))\n",
        "print(data[:500])\n",
        "print(\"Number of lines:\", len(corpus))\n",
        "print(corpus[:10])  # show first 10 lines"
      ],
      "metadata": {
        "colab": {
          "base_uri": "https://localhost:8080/"
        },
        "id": "wz07g8Hm_SuN",
        "outputId": "1f560c97-01a5-4785-e07e-af00893f51c8"
      },
      "execution_count": null,
      "outputs": [
        {
          "output_type": "stream",
          "name": "stdout",
          "text": [
            "<class 'str'>\n",
            "95662\n",
            "\tSONNETS\n",
            "\n",
            "\n",
            "\n",
            "TO THE ONLY BEGETTER OF\n",
            "THESE INSUING SONNETS\n",
            "MR. W. H. ALL HAPPINESS\n",
            "AND THAT ETERNITY\n",
            "PROMISED BY\n",
            "OUR EVER-LIVING POET WISHETH\n",
            "THE WELL-WISHING\n",
            "ADVENTURER IN\n",
            "SETTING FORTH\n",
            "T. T.\n",
            "\n",
            "\n",
            "I.\n",
            "\n",
            "FROM fairest creatures we desire increase,\n",
            "That thereby beauty's rose might never die,\n",
            "But as the riper should by time decease,\n",
            "His tender heir might bear his memory:\n",
            "But thou, contracted to thine own bright eyes,\n",
            "Feed'st thy light'st flame with self-substantial fuel,\n",
            "Making a famine where abundance l\n",
            "Number of lines: 2634\n",
            "['\\tsonnets', '', '', '', 'to the only begetter of', 'these insuing sonnets', 'mr. w. h. all happiness', 'and that eternity', 'promised by', 'our ever-living poet wisheth']\n"
          ]
        }
      ]
    },
    {
      "cell_type": "markdown",
      "metadata": {
        "id": "7vZDdoCo9x3x"
      },
      "source": [
        "Step 1: Initialise a tokenizer and fit it on the corpus variable using .fit_on_texts"
      ]
    },
    {
      "cell_type": "code",
      "execution_count": null,
      "metadata": {
        "id": "LtP3t7dt9x3x"
      },
      "outputs": [],
      "source": [
        "# Your code here :\n",
        "\n",
        "tokenizer = Tokenizer() # mapping each unique word to an integer\n",
        "\n",
        "tokenizer.fit_on_texts(corpus) # Keras built a word index (tokenizer.word_index) that maps each unique word to a unique integer.\n"
      ]
    },
    {
      "cell_type": "code",
      "source": [
        "print(\"Total unique words:\", len(tokenizer.word_index)) # The tokenizer now has an internal dictionary called word_index\n",
        "\n",
        "# Print a few word–index pairs\n",
        "print(list(tokenizer.word_index.items())[:10])\n"
      ],
      "metadata": {
        "colab": {
          "base_uri": "https://localhost:8080/"
        },
        "id": "OB63PLA5AmJE",
        "outputId": "17022f34-3921-4569-e660-db28d7fb696f"
      },
      "execution_count": null,
      "outputs": [
        {
          "output_type": "stream",
          "name": "stdout",
          "text": [
            "Total unique words: 3374\n",
            "[('and', 1), ('the', 2), ('to', 3), ('of', 4), ('my', 5), ('i', 6), ('in', 7), ('that', 8), ('thy', 9), ('thou', 10)]\n"
          ]
        }
      ]
    },
    {
      "cell_type": "markdown",
      "metadata": {
        "id": "Ca7uk5V69x3x"
      },
      "source": [
        "Step 2: Calculate the Vocabulary Size\n",
        "\n",
        "Let's figure out how many unique words are in your corpus. This will be the size of your vocabulary.\n",
        "\n",
        "Calculate the length of tokenizer.word_index, add 1 to it and store it in a variable called total_words."
      ]
    },
    {
      "cell_type": "code",
      "execution_count": null,
      "metadata": {
        "colab": {
          "base_uri": "https://localhost:8080/"
        },
        "id": "ktEcd2il9x3y",
        "outputId": "53ba702f-a6a5-4343-9c8b-36d72035f55a"
      },
      "outputs": [
        {
          "output_type": "stream",
          "name": "stdout",
          "text": [
            "Total words in vocabulary: 3375\n"
          ]
        }
      ],
      "source": [
        "# Your code here :\n",
        "# Step 2: Calculate the vocabulary size\n",
        "total_words = len(tokenizer.word_index) + 1\n",
        "\n",
        "print(\"Total words in vocabulary:\", total_words)\n",
        "\n",
        "# Why: The model’s embedding layer needs to know the total number of words.\n"
      ]
    },
    {
      "cell_type": "markdown",
      "metadata": {
        "id": "BMvAuFtS9x3y"
      },
      "source": [
        "Create an empty list called input_sequences.\n",
        "\n",
        "For each sentence in your corpus, convert the text into a sequence of integers using the tokenizer.\n",
        "Then, generate n-gram sequences from these tokens.\n",
        "\n",
        "Store the result in the list input_sequences."
      ]
    },
    {
      "cell_type": "code",
      "execution_count": null,
      "metadata": {
        "colab": {
          "base_uri": "https://localhost:8080/"
        },
        "id": "7Wn8tr4K9x3y",
        "outputId": "a18df543-a77e-4114-93da-231664cf071a"
      },
      "outputs": [
        {
          "output_type": "stream",
          "name": "stdout",
          "text": [
            "Number of sequences generated: 15484\n",
            "Example sequence: [3, 2]\n"
          ]
        }
      ],
      "source": [
        "# Your code here :\n",
        "input_sequences = []\n",
        "\n",
        "for sentence in corpus:\n",
        "    token_list = tokenizer.texts_to_sequences([sentence])[0] # Convert the sentence/line to a list of integers\n",
        "\n",
        "    for i in range(1, len(token_list)): # Generate n-gram sequences\n",
        "        n_gram_sequence = token_list[:i+1]  # take first i+1 tokens\n",
        "        input_sequences.append(n_gram_sequence)\n",
        "\n",
        "print(\"Number of sequences generated:\", len(input_sequences))\n",
        "print(\"Example sequence:\", input_sequences[0])\n",
        "\n",
        "# Why: The model learns to predict the next word in a sequence."
      ]
    },
    {
      "cell_type": "markdown",
      "metadata": {
        "id": "_RU_jeUg9x3y"
      },
      "source": [
        "Calculate the length of the longest sequence in `input_sequences`. Assign the result to a variable called `max_sequence_len`.\n",
        "\n",
        "Now pad the sequences using `pad_sequences`(`input_sequences, maxlen=max_sequence_len, padding='pre'`).\n",
        "Convert it to a numpy array and assign the result back to our variable called `input_sequences`."
      ]
    },
    {
      "cell_type": "code",
      "execution_count": null,
      "metadata": {
        "colab": {
          "base_uri": "https://localhost:8080/"
        },
        "id": "Ri-QUeVf9x3y",
        "outputId": "d12e6aa7-25e0-4968-9c78-d10b9573ce37"
      },
      "outputs": [
        {
          "output_type": "stream",
          "name": "stdout",
          "text": [
            "Maximum sequence length: 11\n",
            "Shape of input_sequences after padding: (15484, 11)\n"
          ]
        }
      ],
      "source": [
        "# Your code here :\n",
        "from tensorflow.keras.preprocessing.sequence import pad_sequences\n",
        "import numpy as np\n",
        "\n",
        "# Step 4: Find the length of the longest sequence\n",
        "max_sequence_len = max([len(seq) for seq in input_sequences])\n",
        "print(\"Maximum sequence length:\", max_sequence_len)\n",
        "\n",
        "input_sequences = pad_sequences(input_sequences, maxlen=max_sequence_len, padding='pre') # Pad all sequences to the same length\n",
        "\n",
        "input_sequences = np.array(input_sequences) # Convert to numpy array (pad_sequences already returns a NumPy array, but just to be safe)\n",
        "\n",
        "print(\"Shape of input_sequences after padding:\", input_sequences.shape)\n",
        "\n",
        "# Why: Neural networks need uniform-length inputs.\n"
      ]
    },
    {
      "cell_type": "markdown",
      "source": [
        "### Let's visualise whats doen till here!\n",
        "\n",
        "Original line of text (corpus):  \n",
        "<span style=\"color:blue\">\"from fairest creatures we desire increase\"</span>\n",
        "\n",
        "**Step 1: Tokenize → words to integers**  \n",
        "<span style=\"color:green\">['from', 'fairest', 'creatures', 'we', 'desire', 'increase']</span>  \n",
        "<span style=\"color:red\">[15, 234, 76, 12, 98, 321]</span>\n",
        "\n",
        "**Step 2: Generate n-gram sequences**  \n",
        "<span style=\"color:purple\">[15, 234]</span>  \n",
        "<span style=\"color:purple\">[15, 234, 76]</span>  \n",
        "<span style=\"color:purple\">[15, 234, 76, 12]</span>  \n",
        "<span style=\"color:purple\">[15, 234, 76, 12, 98]</span>  \n",
        "<span style=\"color:purple\">[15, 234, 76, 12, 98, 321]</span>\n",
        "\n",
        "**Step 3: Pad sequences to same length (max_sequence_len=8)**  \n",
        "<span style=\"color:orange\">[0, 0, 0, 15, 234]</span>  \n",
        "<span style=\"color:orange\">[0, 0, 15, 234, 76]</span>  \n",
        "<span style=\"color:orange\">[0, 15, 234, 76, 12]</span>  \n",
        "<span style=\"color:orange\">[15, 234, 76, 12, 98]</span>  \n",
        "<span style=\"color:orange\">[0, 0, 15, 234, 76, 12, 98, 321]</span>\n",
        "\n",
        "**Step 4: Split input & label**  \n",
        "Input X: <span style=\"color:green\">[0, 0, 15, 234, 76, 12, 98]</span>  \n",
        "Label y: <span style=\"color:red\">321</span>  (next word)\n",
        "\n",
        "By Sofia\n"
      ],
      "metadata": {
        "id": "p8Eaxl8_GykN"
      }
    },
    {
      "cell_type": "markdown",
      "metadata": {
        "id": "0p5wgeLg9x3y"
      },
      "source": [
        "Prepare Predictors and Labels\n",
        "\n",
        "Split the sequences into two parts:\n",
        "\n",
        "- Predictors: All elements from input_sequences except the last one.\n",
        "- Labels: The last element of each sequence in input_sequences."
      ]
    },
    {
      "cell_type": "code",
      "execution_count": null,
      "metadata": {
        "id": "PRnDnCW-Z7qv",
        "tags": [],
        "colab": {
          "base_uri": "https://localhost:8080/"
        },
        "outputId": "d5ef6870-2fbd-4a11-8551-131adabd8f5d"
      },
      "outputs": [
        {
          "output_type": "stream",
          "name": "stdout",
          "text": [
            "Shape of X: (15484, 10)\n",
            "Shape of y: (15484,)\n",
            "Example X[0]: [0 0 0 0 0 0 0 0 0 3]\n",
            "Example y[0]: 2\n"
          ]
        }
      ],
      "source": [
        "# Your code here :\n",
        "# Split sequences into predictors and labels\n",
        "X = input_sequences[:, :-1]  # all elements except last\n",
        "y = input_sequences[:, -1]   # last element\n",
        "\n",
        "print(\"Shape of X:\", X.shape)\n",
        "print(\"Shape of y:\", y.shape)\n",
        "print(\"Example X[0]:\", X[0])\n",
        "print(\"Example y[0]:\", y[0])\n"
      ]
    },
    {
      "cell_type": "markdown",
      "metadata": {
        "id": "OcJvUli39x3z"
      },
      "source": [
        "One-Hot Encode the Labels :\n",
        "\n",
        "Convert the labels (which are integers) into one-hot encoded vectors.\n",
        "\n",
        "Ensure the length of these vectors matches the total number of unique words in your vocabulary.\n",
        "\n",
        "Use ku.to_categorical() on labels with num_classes = total_words\n",
        "\n",
        "Assign the result back to our variable labels."
      ]
    },
    {
      "cell_type": "code",
      "source": [
        "print(\"Number of labels:\", len(y))\n",
        "print(\"Shape of y:\", y.shape)\n",
        "print(\"First 10 labels:\", y[:10])"
      ],
      "metadata": {
        "colab": {
          "base_uri": "https://localhost:8080/"
        },
        "id": "lNEoPKReH8ff",
        "outputId": "a63488f1-a8b2-4878-fbb6-dbbe6879c1ab"
      },
      "execution_count": null,
      "outputs": [
        {
          "output_type": "stream",
          "name": "stdout",
          "text": [
            "Number of labels: 15484\n",
            "Shape of y: (15484,)\n",
            "First 10 labels: [   2  313 1375    4 1376  878 1378 1379   23 1380]\n"
          ]
        }
      ]
    },
    {
      "cell_type": "code",
      "execution_count": null,
      "metadata": {
        "colab": {
          "base_uri": "https://localhost:8080/"
        },
        "id": "8r_HCtXB9x3z",
        "outputId": "71217580-e10d-44e7-ae31-2397c2a6547d"
      },
      "outputs": [
        {
          "output_type": "stream",
          "name": "stdout",
          "text": [
            "Shape of labels: (15484, 3375)\n",
            "Example label[0]: [0. 0. 1. ... 0. 0. 0.]\n"
          ]
        }
      ],
      "source": [
        "# Your code here :\n",
        "# One-hot encode the labels\n",
        "labels = ku.to_categorical(y, num_classes=total_words)\n",
        "\n",
        "print(\"Shape of labels:\", labels.shape)\n",
        "print(\"Example label[0]:\", labels[0])\n"
      ]
    },
    {
      "cell_type": "markdown",
      "metadata": {
        "id": "-ZNbqRbO9x3z"
      },
      "source": [
        "# Initialize the Model\n",
        "\n",
        "Start by creating a Sequential model.\n",
        "\n",
        "Add Layers to the Model:\n",
        "\n",
        "Embedding Layer: The first layer is an embedding layer. It converts word indices into dense vectors of fixed size (100 in this case). Set the input length to the maximum sequence length minus one, which corresponds to the number of previous words the model will consider when predicting the next word.\n",
        "\n",
        "Bidirectional LSTM Layer: Add a Bidirectional LSTM layer with 150 units. This layer allows the model to learn context from both directions (past and future) in the sequence. return_sequences=True\n",
        "\n",
        "Dropout Layer: Add a dropout layer with a rate of 0.2 to prevent overfitting by randomly setting 20% of the input units to 0 during training.\n",
        "\n",
        "LSTM Layer: Add a second LSTM layer with 100 units. This layer processes the sequence and passes its output to the next layer.\n",
        "\n",
        "Dense Layer (Intermediate): Add a dense layer with half the total number of words as units, using ReLU activation. A regularization term (L2) is added to prevent overfitting.\n",
        "\n",
        "Dense Layer (Output): The final dense layer has as many units as there are words in the vocabulary, with a softmax activation function to output a probability distribution over all words."
      ]
    },
    {
      "cell_type": "code",
      "execution_count": null,
      "metadata": {
        "id": "3NlPagnF9x3z",
        "colab": {
          "base_uri": "https://localhost:8080/"
        },
        "outputId": "bebdb884-43a8-4bd6-9b84-15df12bb4c95"
      },
      "outputs": [
        {
          "output_type": "stream",
          "name": "stderr",
          "text": [
            "/usr/local/lib/python3.12/dist-packages/keras/src/layers/core/embedding.py:97: UserWarning: Argument `input_length` is deprecated. Just remove it.\n",
            "  warnings.warn(\n"
          ]
        }
      ],
      "source": [
        "# built and compiled an LSTM neural network\n",
        "\n",
        "from tensorflow.keras.models import Sequential\n",
        "from tensorflow.keras.layers import Embedding, LSTM, Dense, Dropout, Bidirectional\n",
        "from tensorflow.keras import regularizers\n",
        "\n",
        "model = Sequential([\n",
        "    # Embedding layer\n",
        "    Embedding(input_dim=total_words, output_dim=100, input_length=max_sequence_len-1),\n",
        "\n",
        "    # Bidirectional LSTM\n",
        "    Bidirectional(LSTM(150, return_sequences=True)),\n",
        "\n",
        "    # Dropout\n",
        "    Dropout(0.2),\n",
        "\n",
        "    # Second LSTM\n",
        "    LSTM(100),\n",
        "\n",
        "    # Dense layer (intermediate) with L2 regularization\n",
        "    Dense(total_words//2, activation='relu', kernel_regularizer=regularizers.l2(0.01)),\n",
        "\n",
        "    # Output layer\n",
        "    Dense(total_words, activation='softmax')\n",
        "])"
      ]
    },
    {
      "cell_type": "markdown",
      "source": [
        "# LSTM Text Generation Model – Step by Step\n",
        "\n",
        "```python\n",
        "# 1️⃣ Embedding Layer\n",
        "Embedding(input_dim=total_words, output_dim=100, input_length=max_sequence_len-1)\n",
        "# Converts word indices into dense 100-dimensional vectors. Each word gets a vector representation.\n",
        "# input_length=max_sequence_len-1 because input sequence excludes the next word.\n",
        "\n",
        "# 2️⃣ Bidirectional LSTM\n",
        "Bidirectional(LSTM(150, return_sequences=True))\n",
        "# Reads the sequence forward and backward to capture context from both directions.\n",
        "# return_sequences=True allows stacking another LSTM layer.\n",
        "\n",
        "# 3️⃣ Dropout\n",
        "Dropout(0.2)\n",
        "# Randomly sets 20% of neurons to 0 during training to prevent overfitting.\n",
        "\n",
        "# 4️⃣ Second LSTM\n",
        "LSTM(100)\n",
        "# Processes the output from the previous LSTM and outputs a summary vector for the sequence.\n",
        "\n",
        "# 5️⃣ Dense Layer (Intermediate)\n",
        "Dense(total_words//2, activation='relu', kernel_regularizer=regularizers.l2(0.01))\n",
        "# Fully connected layer with half the vocabulary size as units.\n",
        "# ReLU activation introduces non-linearity. L2 regularization prevents overfitting.\n",
        "\n",
        "# 6️⃣ Dense Layer (Output)\n",
        "Dense(total_words, activation='softmax')\n",
        "# Produces a probability distribution over all words in the vocabulary.\n",
        "# The model predicts the next word based on the highest probability.\n",
        "\n",
        "# 7️⃣ Compile\n",
        "model.compile(loss='categorical_crossentropy', optimizer='adam', metrics=['accuracy'])\n",
        "# Loss: categorical_crossentropy for multi-class word prediction.\n",
        "# Optimizer: Adam. Metric: accuracy.\n",
        "\n",
        "By Sofia"
      ],
      "metadata": {
        "id": "DO4elnpIJZIq"
      }
    },
    {
      "cell_type": "markdown",
      "metadata": {
        "id": "TQF05o4Y9x3z"
      },
      "source": [
        "# Compile the Model:\n",
        "\n",
        "Compile the model using categorical crossentropy as the loss function, the Adam optimizer for efficient training, and accuracy as the metric to evaluate during training."
      ]
    },
    {
      "cell_type": "code",
      "execution_count": null,
      "metadata": {
        "id": "UWZ5mdN89x3z"
      },
      "outputs": [],
      "source": [
        "# Your code here :\n",
        "# Compile the model\n",
        "model.compile(loss='categorical_crossentropy', optimizer='adam', metrics=['accuracy'])\n",
        "model.build(input_shape=(None, max_sequence_len-1))\n"
      ]
    },
    {
      "cell_type": "markdown",
      "metadata": {
        "id": "h8pfzTLq9x3z"
      },
      "source": [
        "# Print Model Summary:\n",
        "\n",
        "Use model.summary() to print a summary of the model, which shows the layers, their output shapes, and the number of parameters."
      ]
    },
    {
      "cell_type": "code",
      "execution_count": null,
      "metadata": {
        "colab": {
          "base_uri": "https://localhost:8080/",
          "height": 331
        },
        "id": "HLrf_ONB9x3z",
        "outputId": "8683485c-1b6e-4f68-f627-55167b120a97"
      },
      "outputs": [
        {
          "output_type": "display_data",
          "data": {
            "text/plain": [
              "\u001b[1mModel: \"sequential\"\u001b[0m\n"
            ],
            "text/html": [
              "<pre style=\"white-space:pre;overflow-x:auto;line-height:normal;font-family:Menlo,'DejaVu Sans Mono',consolas,'Courier New',monospace\"><span style=\"font-weight: bold\">Model: \"sequential\"</span>\n",
              "</pre>\n"
            ]
          },
          "metadata": {}
        },
        {
          "output_type": "display_data",
          "data": {
            "text/plain": [
              "┏━━━━━━━━━━━━━━━━━━━━━━━━━━━━━━━━━┳━━━━━━━━━━━━━━━━━━━━━━━━┳━━━━━━━━━━━━━━━┓\n",
              "┃\u001b[1m \u001b[0m\u001b[1mLayer (type)                   \u001b[0m\u001b[1m \u001b[0m┃\u001b[1m \u001b[0m\u001b[1mOutput Shape          \u001b[0m\u001b[1m \u001b[0m┃\u001b[1m \u001b[0m\u001b[1m      Param #\u001b[0m\u001b[1m \u001b[0m┃\n",
              "┡━━━━━━━━━━━━━━━━━━━━━━━━━━━━━━━━━╇━━━━━━━━━━━━━━━━━━━━━━━━╇━━━━━━━━━━━━━━━┩\n",
              "│ embedding (\u001b[38;5;33mEmbedding\u001b[0m)           │ (\u001b[38;5;45mNone\u001b[0m, \u001b[38;5;34m10\u001b[0m, \u001b[38;5;34m100\u001b[0m)        │       \u001b[38;5;34m337,500\u001b[0m │\n",
              "├─────────────────────────────────┼────────────────────────┼───────────────┤\n",
              "│ bidirectional (\u001b[38;5;33mBidirectional\u001b[0m)   │ (\u001b[38;5;45mNone\u001b[0m, \u001b[38;5;34m10\u001b[0m, \u001b[38;5;34m300\u001b[0m)        │       \u001b[38;5;34m301,200\u001b[0m │\n",
              "├─────────────────────────────────┼────────────────────────┼───────────────┤\n",
              "│ dropout (\u001b[38;5;33mDropout\u001b[0m)               │ (\u001b[38;5;45mNone\u001b[0m, \u001b[38;5;34m10\u001b[0m, \u001b[38;5;34m300\u001b[0m)        │             \u001b[38;5;34m0\u001b[0m │\n",
              "├─────────────────────────────────┼────────────────────────┼───────────────┤\n",
              "│ lstm_1 (\u001b[38;5;33mLSTM\u001b[0m)                   │ (\u001b[38;5;45mNone\u001b[0m, \u001b[38;5;34m100\u001b[0m)            │       \u001b[38;5;34m160,400\u001b[0m │\n",
              "├─────────────────────────────────┼────────────────────────┼───────────────┤\n",
              "│ dense (\u001b[38;5;33mDense\u001b[0m)                   │ (\u001b[38;5;45mNone\u001b[0m, \u001b[38;5;34m1687\u001b[0m)           │       \u001b[38;5;34m170,387\u001b[0m │\n",
              "├─────────────────────────────────┼────────────────────────┼───────────────┤\n",
              "│ dense_1 (\u001b[38;5;33mDense\u001b[0m)                 │ (\u001b[38;5;45mNone\u001b[0m, \u001b[38;5;34m3375\u001b[0m)           │     \u001b[38;5;34m5,697,000\u001b[0m │\n",
              "└─────────────────────────────────┴────────────────────────┴───────────────┘\n"
            ],
            "text/html": [
              "<pre style=\"white-space:pre;overflow-x:auto;line-height:normal;font-family:Menlo,'DejaVu Sans Mono',consolas,'Courier New',monospace\">┏━━━━━━━━━━━━━━━━━━━━━━━━━━━━━━━━━┳━━━━━━━━━━━━━━━━━━━━━━━━┳━━━━━━━━━━━━━━━┓\n",
              "┃<span style=\"font-weight: bold\"> Layer (type)                    </span>┃<span style=\"font-weight: bold\"> Output Shape           </span>┃<span style=\"font-weight: bold\">       Param # </span>┃\n",
              "┡━━━━━━━━━━━━━━━━━━━━━━━━━━━━━━━━━╇━━━━━━━━━━━━━━━━━━━━━━━━╇━━━━━━━━━━━━━━━┩\n",
              "│ embedding (<span style=\"color: #0087ff; text-decoration-color: #0087ff\">Embedding</span>)           │ (<span style=\"color: #00d7ff; text-decoration-color: #00d7ff\">None</span>, <span style=\"color: #00af00; text-decoration-color: #00af00\">10</span>, <span style=\"color: #00af00; text-decoration-color: #00af00\">100</span>)        │       <span style=\"color: #00af00; text-decoration-color: #00af00\">337,500</span> │\n",
              "├─────────────────────────────────┼────────────────────────┼───────────────┤\n",
              "│ bidirectional (<span style=\"color: #0087ff; text-decoration-color: #0087ff\">Bidirectional</span>)   │ (<span style=\"color: #00d7ff; text-decoration-color: #00d7ff\">None</span>, <span style=\"color: #00af00; text-decoration-color: #00af00\">10</span>, <span style=\"color: #00af00; text-decoration-color: #00af00\">300</span>)        │       <span style=\"color: #00af00; text-decoration-color: #00af00\">301,200</span> │\n",
              "├─────────────────────────────────┼────────────────────────┼───────────────┤\n",
              "│ dropout (<span style=\"color: #0087ff; text-decoration-color: #0087ff\">Dropout</span>)               │ (<span style=\"color: #00d7ff; text-decoration-color: #00d7ff\">None</span>, <span style=\"color: #00af00; text-decoration-color: #00af00\">10</span>, <span style=\"color: #00af00; text-decoration-color: #00af00\">300</span>)        │             <span style=\"color: #00af00; text-decoration-color: #00af00\">0</span> │\n",
              "├─────────────────────────────────┼────────────────────────┼───────────────┤\n",
              "│ lstm_1 (<span style=\"color: #0087ff; text-decoration-color: #0087ff\">LSTM</span>)                   │ (<span style=\"color: #00d7ff; text-decoration-color: #00d7ff\">None</span>, <span style=\"color: #00af00; text-decoration-color: #00af00\">100</span>)            │       <span style=\"color: #00af00; text-decoration-color: #00af00\">160,400</span> │\n",
              "├─────────────────────────────────┼────────────────────────┼───────────────┤\n",
              "│ dense (<span style=\"color: #0087ff; text-decoration-color: #0087ff\">Dense</span>)                   │ (<span style=\"color: #00d7ff; text-decoration-color: #00d7ff\">None</span>, <span style=\"color: #00af00; text-decoration-color: #00af00\">1687</span>)           │       <span style=\"color: #00af00; text-decoration-color: #00af00\">170,387</span> │\n",
              "├─────────────────────────────────┼────────────────────────┼───────────────┤\n",
              "│ dense_1 (<span style=\"color: #0087ff; text-decoration-color: #0087ff\">Dense</span>)                 │ (<span style=\"color: #00d7ff; text-decoration-color: #00d7ff\">None</span>, <span style=\"color: #00af00; text-decoration-color: #00af00\">3375</span>)           │     <span style=\"color: #00af00; text-decoration-color: #00af00\">5,697,000</span> │\n",
              "└─────────────────────────────────┴────────────────────────┴───────────────┘\n",
              "</pre>\n"
            ]
          },
          "metadata": {}
        },
        {
          "output_type": "display_data",
          "data": {
            "text/plain": [
              "\u001b[1m Total params: \u001b[0m\u001b[38;5;34m6,666,487\u001b[0m (25.43 MB)\n"
            ],
            "text/html": [
              "<pre style=\"white-space:pre;overflow-x:auto;line-height:normal;font-family:Menlo,'DejaVu Sans Mono',consolas,'Courier New',monospace\"><span style=\"font-weight: bold\"> Total params: </span><span style=\"color: #00af00; text-decoration-color: #00af00\">6,666,487</span> (25.43 MB)\n",
              "</pre>\n"
            ]
          },
          "metadata": {}
        },
        {
          "output_type": "display_data",
          "data": {
            "text/plain": [
              "\u001b[1m Trainable params: \u001b[0m\u001b[38;5;34m6,666,487\u001b[0m (25.43 MB)\n"
            ],
            "text/html": [
              "<pre style=\"white-space:pre;overflow-x:auto;line-height:normal;font-family:Menlo,'DejaVu Sans Mono',consolas,'Courier New',monospace\"><span style=\"font-weight: bold\"> Trainable params: </span><span style=\"color: #00af00; text-decoration-color: #00af00\">6,666,487</span> (25.43 MB)\n",
              "</pre>\n"
            ]
          },
          "metadata": {}
        },
        {
          "output_type": "display_data",
          "data": {
            "text/plain": [
              "\u001b[1m Non-trainable params: \u001b[0m\u001b[38;5;34m0\u001b[0m (0.00 B)\n"
            ],
            "text/html": [
              "<pre style=\"white-space:pre;overflow-x:auto;line-height:normal;font-family:Menlo,'DejaVu Sans Mono',consolas,'Courier New',monospace\"><span style=\"font-weight: bold\"> Non-trainable params: </span><span style=\"color: #00af00; text-decoration-color: #00af00\">0</span> (0.00 B)\n",
              "</pre>\n"
            ]
          },
          "metadata": {}
        }
      ],
      "source": [
        "# Your code here :\n",
        "model.summary()"
      ]
    },
    {
      "cell_type": "markdown",
      "metadata": {
        "id": "QwGwefQJ9x3z"
      },
      "source": [
        "# Now train the model for 50 epochs and assign it to a variable called history.\n",
        "\n",
        "Training the model with 50 epochs should get you around 40% accuracy.\n",
        "\n",
        "You can train the model for as many epochs as you like depending on the time and computing constraints you are facing. Ideally train it for a larger amount of epochs than 50.\n",
        "\n",
        "That way you will get better text generation at the end.\n",
        "\n",
        "However, dont waste your time."
      ]
    },
    {
      "cell_type": "code",
      "execution_count": null,
      "metadata": {
        "id": "AIg2f1HBxqof",
        "tags": [],
        "colab": {
          "base_uri": "https://localhost:8080/"
        },
        "outputId": "ac617b52-465f-4992-e9a6-b76f4fddbc09"
      },
      "outputs": [
        {
          "output_type": "stream",
          "name": "stdout",
          "text": [
            "Epoch 1/50\n",
            "\u001b[1m121/121\u001b[0m \u001b[32m━━━━━━━━━━━━━━━━━━━━\u001b[0m\u001b[37m\u001b[0m \u001b[1m8s\u001b[0m 15ms/step - accuracy: 0.0191 - loss: 8.0374\n",
            "Epoch 2/50\n",
            "\u001b[1m121/121\u001b[0m \u001b[32m━━━━━━━━━━━━━━━━━━━━\u001b[0m\u001b[37m\u001b[0m \u001b[1m2s\u001b[0m 16ms/step - accuracy: 0.0220 - loss: 6.5862\n",
            "Epoch 3/50\n",
            "\u001b[1m121/121\u001b[0m \u001b[32m━━━━━━━━━━━━━━━━━━━━\u001b[0m\u001b[37m\u001b[0m \u001b[1m2s\u001b[0m 15ms/step - accuracy: 0.0222 - loss: 6.4398\n",
            "Epoch 4/50\n",
            "\u001b[1m121/121\u001b[0m \u001b[32m━━━━━━━━━━━━━━━━━━━━\u001b[0m\u001b[37m\u001b[0m \u001b[1m2s\u001b[0m 14ms/step - accuracy: 0.0221 - loss: 6.4011\n",
            "Epoch 5/50\n",
            "\u001b[1m121/121\u001b[0m \u001b[32m━━━━━━━━━━━━━━━━━━━━\u001b[0m\u001b[37m\u001b[0m \u001b[1m2s\u001b[0m 14ms/step - accuracy: 0.0270 - loss: 6.2967\n",
            "Epoch 6/50\n",
            "\u001b[1m121/121\u001b[0m \u001b[32m━━━━━━━━━━━━━━━━━━━━\u001b[0m\u001b[37m\u001b[0m \u001b[1m2s\u001b[0m 14ms/step - accuracy: 0.0281 - loss: 6.2371\n",
            "Epoch 7/50\n",
            "\u001b[1m121/121\u001b[0m \u001b[32m━━━━━━━━━━━━━━━━━━━━\u001b[0m\u001b[37m\u001b[0m \u001b[1m2s\u001b[0m 14ms/step - accuracy: 0.0398 - loss: 6.1845\n",
            "Epoch 8/50\n",
            "\u001b[1m121/121\u001b[0m \u001b[32m━━━━━━━━━━━━━━━━━━━━\u001b[0m\u001b[37m\u001b[0m \u001b[1m2s\u001b[0m 14ms/step - accuracy: 0.0393 - loss: 6.1479\n",
            "Epoch 9/50\n",
            "\u001b[1m121/121\u001b[0m \u001b[32m━━━━━━━━━━━━━━━━━━━━\u001b[0m\u001b[37m\u001b[0m \u001b[1m2s\u001b[0m 17ms/step - accuracy: 0.0402 - loss: 6.0984\n",
            "Epoch 10/50\n",
            "\u001b[1m121/121\u001b[0m \u001b[32m━━━━━━━━━━━━━━━━━━━━\u001b[0m\u001b[37m\u001b[0m \u001b[1m2s\u001b[0m 15ms/step - accuracy: 0.0443 - loss: 6.0203\n",
            "Epoch 11/50\n",
            "\u001b[1m121/121\u001b[0m \u001b[32m━━━━━━━━━━━━━━━━━━━━\u001b[0m\u001b[37m\u001b[0m \u001b[1m2s\u001b[0m 14ms/step - accuracy: 0.0480 - loss: 5.9712\n",
            "Epoch 12/50\n",
            "\u001b[1m121/121\u001b[0m \u001b[32m━━━━━━━━━━━━━━━━━━━━\u001b[0m\u001b[37m\u001b[0m \u001b[1m2s\u001b[0m 14ms/step - accuracy: 0.0505 - loss: 5.9218\n",
            "Epoch 13/50\n",
            "\u001b[1m121/121\u001b[0m \u001b[32m━━━━━━━━━━━━━━━━━━━━\u001b[0m\u001b[37m\u001b[0m \u001b[1m2s\u001b[0m 14ms/step - accuracy: 0.0564 - loss: 5.8250\n",
            "Epoch 14/50\n",
            "\u001b[1m121/121\u001b[0m \u001b[32m━━━━━━━━━━━━━━━━━━━━\u001b[0m\u001b[37m\u001b[0m \u001b[1m2s\u001b[0m 14ms/step - accuracy: 0.0587 - loss: 5.7658\n",
            "Epoch 15/50\n",
            "\u001b[1m121/121\u001b[0m \u001b[32m━━━━━━━━━━━━━━━━━━━━\u001b[0m\u001b[37m\u001b[0m \u001b[1m2s\u001b[0m 14ms/step - accuracy: 0.0547 - loss: 5.7250\n",
            "Epoch 16/50\n",
            "\u001b[1m121/121\u001b[0m \u001b[32m━━━━━━━━━━━━━━━━━━━━\u001b[0m\u001b[37m\u001b[0m \u001b[1m2s\u001b[0m 17ms/step - accuracy: 0.0609 - loss: 5.6338\n",
            "Epoch 17/50\n",
            "\u001b[1m121/121\u001b[0m \u001b[32m━━━━━━━━━━━━━━━━━━━━\u001b[0m\u001b[37m\u001b[0m \u001b[1m2s\u001b[0m 14ms/step - accuracy: 0.0613 - loss: 5.5548\n",
            "Epoch 18/50\n",
            "\u001b[1m121/121\u001b[0m \u001b[32m━━━━━━━━━━━━━━━━━━━━\u001b[0m\u001b[37m\u001b[0m \u001b[1m2s\u001b[0m 14ms/step - accuracy: 0.0705 - loss: 5.5010\n",
            "Epoch 19/50\n",
            "\u001b[1m121/121\u001b[0m \u001b[32m━━━━━━━━━━━━━━━━━━━━\u001b[0m\u001b[37m\u001b[0m \u001b[1m2s\u001b[0m 14ms/step - accuracy: 0.0715 - loss: 5.4108\n",
            "Epoch 20/50\n",
            "\u001b[1m121/121\u001b[0m \u001b[32m━━━━━━━━━━━━━━━━━━━━\u001b[0m\u001b[37m\u001b[0m \u001b[1m2s\u001b[0m 14ms/step - accuracy: 0.0798 - loss: 5.3221\n",
            "Epoch 21/50\n",
            "\u001b[1m121/121\u001b[0m \u001b[32m━━━━━━━━━━━━━━━━━━━━\u001b[0m\u001b[37m\u001b[0m \u001b[1m2s\u001b[0m 14ms/step - accuracy: 0.0825 - loss: 5.2556\n",
            "Epoch 22/50\n",
            "\u001b[1m121/121\u001b[0m \u001b[32m━━━━━━━━━━━━━━━━━━━━\u001b[0m\u001b[37m\u001b[0m \u001b[1m2s\u001b[0m 15ms/step - accuracy: 0.0866 - loss: 5.1939\n",
            "Epoch 23/50\n",
            "\u001b[1m121/121\u001b[0m \u001b[32m━━━━━━━━━━━━━━━━━━━━\u001b[0m\u001b[37m\u001b[0m \u001b[1m2s\u001b[0m 17ms/step - accuracy: 0.0888 - loss: 5.1295\n",
            "Epoch 24/50\n",
            "\u001b[1m121/121\u001b[0m \u001b[32m━━━━━━━━━━━━━━━━━━━━\u001b[0m\u001b[37m\u001b[0m \u001b[1m2s\u001b[0m 14ms/step - accuracy: 0.0906 - loss: 5.0841\n",
            "Epoch 25/50\n",
            "\u001b[1m121/121\u001b[0m \u001b[32m━━━━━━━━━━━━━━━━━━━━\u001b[0m\u001b[37m\u001b[0m \u001b[1m2s\u001b[0m 14ms/step - accuracy: 0.0962 - loss: 5.0117\n",
            "Epoch 26/50\n",
            "\u001b[1m121/121\u001b[0m \u001b[32m━━━━━━━━━━━━━━━━━━━━\u001b[0m\u001b[37m\u001b[0m \u001b[1m2s\u001b[0m 14ms/step - accuracy: 0.0966 - loss: 4.9550\n",
            "Epoch 27/50\n",
            "\u001b[1m121/121\u001b[0m \u001b[32m━━━━━━━━━━━━━━━━━━━━\u001b[0m\u001b[37m\u001b[0m \u001b[1m2s\u001b[0m 14ms/step - accuracy: 0.1048 - loss: 4.9139\n",
            "Epoch 28/50\n",
            "\u001b[1m121/121\u001b[0m \u001b[32m━━━━━━━━━━━━━━━━━━━━\u001b[0m\u001b[37m\u001b[0m \u001b[1m2s\u001b[0m 14ms/step - accuracy: 0.1090 - loss: 4.8288\n",
            "Epoch 29/50\n",
            "\u001b[1m121/121\u001b[0m \u001b[32m━━━━━━━━━━━━━━━━━━━━\u001b[0m\u001b[37m\u001b[0m \u001b[1m2s\u001b[0m 16ms/step - accuracy: 0.1162 - loss: 4.7547\n",
            "Epoch 30/50\n",
            "\u001b[1m121/121\u001b[0m \u001b[32m━━━━━━━━━━━━━━━━━━━━\u001b[0m\u001b[37m\u001b[0m \u001b[1m2s\u001b[0m 16ms/step - accuracy: 0.1161 - loss: 4.7200\n",
            "Epoch 31/50\n",
            "\u001b[1m121/121\u001b[0m \u001b[32m━━━━━━━━━━━━━━━━━━━━\u001b[0m\u001b[37m\u001b[0m \u001b[1m2s\u001b[0m 15ms/step - accuracy: 0.1192 - loss: 4.6542\n",
            "Epoch 32/50\n",
            "\u001b[1m121/121\u001b[0m \u001b[32m━━━━━━━━━━━━━━━━━━━━\u001b[0m\u001b[37m\u001b[0m \u001b[1m2s\u001b[0m 14ms/step - accuracy: 0.1238 - loss: 4.5735\n",
            "Epoch 33/50\n",
            "\u001b[1m121/121\u001b[0m \u001b[32m━━━━━━━━━━━━━━━━━━━━\u001b[0m\u001b[37m\u001b[0m \u001b[1m2s\u001b[0m 14ms/step - accuracy: 0.1296 - loss: 4.5444\n",
            "Epoch 34/50\n",
            "\u001b[1m121/121\u001b[0m \u001b[32m━━━━━━━━━━━━━━━━━━━━\u001b[0m\u001b[37m\u001b[0m \u001b[1m3s\u001b[0m 14ms/step - accuracy: 0.1392 - loss: 4.4639\n",
            "Epoch 35/50\n",
            "\u001b[1m121/121\u001b[0m \u001b[32m━━━━━━━━━━━━━━━━━━━━\u001b[0m\u001b[37m\u001b[0m \u001b[1m2s\u001b[0m 16ms/step - accuracy: 0.1486 - loss: 4.3822\n",
            "Epoch 36/50\n",
            "\u001b[1m121/121\u001b[0m \u001b[32m━━━━━━━━━━━━━━━━━━━━\u001b[0m\u001b[37m\u001b[0m \u001b[1m2s\u001b[0m 17ms/step - accuracy: 0.1503 - loss: 4.3536\n",
            "Epoch 37/50\n",
            "\u001b[1m121/121\u001b[0m \u001b[32m━━━━━━━━━━━━━━━━━━━━\u001b[0m\u001b[37m\u001b[0m \u001b[1m2s\u001b[0m 15ms/step - accuracy: 0.1611 - loss: 4.2930\n",
            "Epoch 38/50\n",
            "\u001b[1m121/121\u001b[0m \u001b[32m━━━━━━━━━━━━━━━━━━━━\u001b[0m\u001b[37m\u001b[0m \u001b[1m3s\u001b[0m 14ms/step - accuracy: 0.1671 - loss: 4.2104\n",
            "Epoch 39/50\n",
            "\u001b[1m121/121\u001b[0m \u001b[32m━━━━━━━━━━━━━━━━━━━━\u001b[0m\u001b[37m\u001b[0m \u001b[1m2s\u001b[0m 14ms/step - accuracy: 0.1784 - loss: 4.1656\n",
            "Epoch 40/50\n",
            "\u001b[1m121/121\u001b[0m \u001b[32m━━━━━━━━━━━━━━━━━━━━\u001b[0m\u001b[37m\u001b[0m \u001b[1m2s\u001b[0m 14ms/step - accuracy: 0.1764 - loss: 4.1208\n",
            "Epoch 41/50\n",
            "\u001b[1m121/121\u001b[0m \u001b[32m━━━━━━━━━━━━━━━━━━━━\u001b[0m\u001b[37m\u001b[0m \u001b[1m2s\u001b[0m 14ms/step - accuracy: 0.1906 - loss: 4.0375\n",
            "Epoch 42/50\n",
            "\u001b[1m121/121\u001b[0m \u001b[32m━━━━━━━━━━━━━━━━━━━━\u001b[0m\u001b[37m\u001b[0m \u001b[1m2s\u001b[0m 18ms/step - accuracy: 0.2082 - loss: 3.9632\n",
            "Epoch 43/50\n",
            "\u001b[1m121/121\u001b[0m \u001b[32m━━━━━━━━━━━━━━━━━━━━\u001b[0m\u001b[37m\u001b[0m \u001b[1m2s\u001b[0m 15ms/step - accuracy: 0.2107 - loss: 3.9207\n",
            "Epoch 44/50\n",
            "\u001b[1m121/121\u001b[0m \u001b[32m━━━━━━━━━━━━━━━━━━━━\u001b[0m\u001b[37m\u001b[0m \u001b[1m2s\u001b[0m 14ms/step - accuracy: 0.2314 - loss: 3.8520\n",
            "Epoch 45/50\n",
            "\u001b[1m121/121\u001b[0m \u001b[32m━━━━━━━━━━━━━━━━━━━━\u001b[0m\u001b[37m\u001b[0m \u001b[1m2s\u001b[0m 14ms/step - accuracy: 0.2429 - loss: 3.8113\n",
            "Epoch 46/50\n",
            "\u001b[1m121/121\u001b[0m \u001b[32m━━━━━━━━━━━━━━━━━━━━\u001b[0m\u001b[37m\u001b[0m \u001b[1m2s\u001b[0m 14ms/step - accuracy: 0.2432 - loss: 3.7547\n",
            "Epoch 47/50\n",
            "\u001b[1m121/121\u001b[0m \u001b[32m━━━━━━━━━━━━━━━━━━━━\u001b[0m\u001b[37m\u001b[0m \u001b[1m2s\u001b[0m 14ms/step - accuracy: 0.2624 - loss: 3.6799\n",
            "Epoch 48/50\n",
            "\u001b[1m121/121\u001b[0m \u001b[32m━━━━━━━━━━━━━━━━━━━━\u001b[0m\u001b[37m\u001b[0m \u001b[1m2s\u001b[0m 16ms/step - accuracy: 0.2572 - loss: 3.6558\n",
            "Epoch 49/50\n",
            "\u001b[1m121/121\u001b[0m \u001b[32m━━━━━━━━━━━━━━━━━━━━\u001b[0m\u001b[37m\u001b[0m \u001b[1m2s\u001b[0m 17ms/step - accuracy: 0.2825 - loss: 3.5922\n",
            "Epoch 50/50\n",
            "\u001b[1m121/121\u001b[0m \u001b[32m━━━━━━━━━━━━━━━━━━━━\u001b[0m\u001b[37m\u001b[0m \u001b[1m2s\u001b[0m 14ms/step - accuracy: 0.2954 - loss: 3.5193\n"
          ]
        }
      ],
      "source": [
        "# Your code here :\n",
        "history = model.fit(X, labels, epochs=50, batch_size=128)"
      ]
    },
    {
      "cell_type": "markdown",
      "source": [
        "Accuracy started very low (~2%) and slowly improved to ~29.5% by epoch 50.  \n",
        "\n",
        "Loss steadily decreased from 8.03 → 3.52, meaning the model is learning patterns from the sequences.  \n",
        "\n",
        "This is expected for a text generation model on a large vocabulary like Shakespeare’s sonnets.  \n",
        "\n",
        "### Why ~29.5% accuracy isn’t bad here\n",
        "\n",
        "- **Huge vocabulary**:  \n",
        "  - Your model predicts one word out of 3,375 possible words.  \n",
        "  - Random chance would be ~0.03% accuracy.  \n",
        "  - So ~29.5% is **far above random**.  \n",
        "\n",
        "- **Sequence prediction is hard**:  \n",
        "  - Even a perfect model might not always pick the exact “next word” because **multiple words could fit grammatically**.  \n",
        "  - Accuracy is strict—only counts **exact matches**.  \n",
        "\n",
        "- **What really matters**:  \n",
        "  - Loss decreasing steadily shows the model is **learning the patterns**.  \n",
        "  - Generated text often looks reasonable **before accuracy gets very high**.  \n",
        "\n",
        "*By Sofia*\n"
      ],
      "metadata": {
        "id": "oDdxqSyxLRpa"
      }
    },
    {
      "cell_type": "markdown",
      "metadata": {
        "id": "Uc-d1yX79x3z"
      },
      "source": [
        "# Use plt from matplotlib to plot the training accuracy over epochs and the loss over epochs"
      ]
    },
    {
      "cell_type": "markdown",
      "metadata": {
        "id": "wKiz_9Dq9x3z"
      },
      "source": [
        "First you will have to get the accuracy and loss data over epochs, you can do this by using methods on your model."
      ]
    },
    {
      "cell_type": "code",
      "execution_count": null,
      "metadata": {
        "id": "1fXTEO3GJ282",
        "tags": [],
        "colab": {
          "base_uri": "https://localhost:8080/",
          "height": 487
        },
        "outputId": "559cd87e-6c16-4023-db49-b5a3af7bc7d9"
      },
      "outputs": [
        {
          "output_type": "display_data",
          "data": {
            "text/plain": [
              "<Figure size 1200x500 with 2 Axes>"
            ],
            "image/png": "[encoded data removed]"
          },
          "metadata": {}
        }
      ],
      "source": [
        "# Your code here :\n",
        "import matplotlib.pyplot as plt\n",
        "\n",
        "# Plot training accuracy\n",
        "plt.figure(figsize=(12, 5))\n",
        "\n",
        "plt.subplot(1, 2, 1)\n",
        "plt.plot(history.history['accuracy'], label='Training Accuracy', color='blue')\n",
        "plt.title('Training Accuracy over Epochs')\n",
        "plt.xlabel('Epoch')\n",
        "plt.ylabel('Accuracy')\n",
        "plt.legend()\n",
        "\n",
        "# Plot training loss\n",
        "plt.subplot(1, 2, 2)\n",
        "plt.plot(history.history['loss'], label='Training Loss', color='red')\n",
        "plt.title('Training Loss over Epochs')\n",
        "plt.xlabel('Epoch')\n",
        "plt.ylabel('Loss')\n",
        "plt.legend()\n",
        "\n",
        "plt.show()\n"
      ]
    },
    {
      "cell_type": "markdown",
      "metadata": {
        "id": "XTCUIzKu9x30"
      },
      "source": [
        "# Generate text with the model based on a seed text\n",
        "\n",
        "Now you will create two variables :\n",
        "\n",
        "- seed_text = 'Write the text you want the model to use as a starting point to generate the next words'\n",
        "- next_words = number_of_words_you_want_the_model_to_generate\n",
        "\n",
        "Please change number_of_words_you_want_the_model_to_generate by an actual integer."
      ]
    },
    {
      "cell_type": "code",
      "execution_count": null,
      "metadata": {
        "id": "Nw744Qhu9x30",
        "colab": {
          "base_uri": "https://localhost:8080/"
        },
        "outputId": "ebb44395-e2c2-42a9-8daf-d8afa6002756"
      },
      "outputs": [
        {
          "output_type": "stream",
          "name": "stdout",
          "text": [
            "shall I compare thee to a summer's day held days seen crime truth are seen afloat some age can see well now grow pride of thee by thee\n"
          ]
        }
      ],
      "source": [
        "# Your code here :\n",
        "# Seed text to start generating from\n",
        "seed_text = \"shall I compare thee to a summer's day\"\n",
        "\n",
        "# Number of words you want the model to generate\n",
        "next_words = 20\n",
        "\n",
        "for _ in range(next_words):\n",
        "    # Convert current seed_text to sequence of integers\n",
        "    token_list = tokenizer.texts_to_sequences([seed_text])[0]\n",
        "\n",
        "    # Pad the sequence to match the input length expected by the model\n",
        "    token_list = pad_sequences([token_list], maxlen=max_sequence_len-1, padding='pre')\n",
        "\n",
        "    # Predict the next word\n",
        "    predicted_probs = model.predict(token_list, verbose=0)\n",
        "    predicted = np.argmax(predicted_probs, axis=-1)[0]\n",
        "\n",
        "    # Map the predicted integer back to a word\n",
        "    output_word = \"\"\n",
        "    for word, index in tokenizer.word_index.items():\n",
        "        if index == predicted:\n",
        "            output_word = word\n",
        "            break\n",
        "\n",
        "    # Append the predicted word to the seed text\n",
        "    seed_text += \" \" + output_word\n",
        "\n",
        "print(seed_text)\n"
      ]
    },
    {
      "cell_type": "markdown",
      "source": [
        "\n",
        "## Observations\n",
        "\n",
        "- **Shakespearean Style**:  \n",
        "  The text mimics Shakespeare’s style and vocabulary, even if the grammar isn’t perfect.\n",
        "\n",
        "- **Word-by-Word Prediction**:  \n",
        "  The model predicts one word at a time based on the previous words. This can sometimes lead to repeated words or slightly awkward phrasing.\n",
        "\n",
        "- **Coherence**:  \n",
        "  - Shorter sequences may feel disjointed.  \n",
        "  - Longer or more meaningful seeds usually produce better text coherence.\n",
        "\n",
        "- **Improvements**:  \n",
        "  1. Generate words **randomly based on probabilities** instead of always taking the most likely next word. This can make text more natural.  \n",
        "  2. Use **longer seed text** to give the model more context.  \n",
        "  3. Train for **more epochs** or use a **larger model** to improve the quality of generated text.\n",
        "\n",
        "- **Conclusion**:  \n",
        "  Even with a low accuracy (~30%), the model can produce text that looks stylistically similar to Shakespeare. The decreasing loss shows the model is learning patterns in the sequences.\n"
      ],
      "metadata": {
        "id": "hpQi3h_reBIh"
      }
    },
    {
      "cell_type": "markdown",
      "metadata": {
        "id": "iia5mDsg9x30"
      },
      "source": [
        "Now create a loop that runs based on the next_words variable and generates new text based on your seed_text input string. Print the full text with the generated text at the end.\n",
        "\n",
        "This time you dont get detailed instructions.\n",
        "\n",
        "Have fun!"
      ]
    },
    {
      "cell_type": "code",
      "execution_count": null,
      "metadata": {
        "id": "6Vc6PHgxa6Hm",
        "tags": [],
        "colab": {
          "base_uri": "https://localhost:8080/"
        },
        "outputId": "38e04d2e-bdd8-4a6a-d1f0-1656204cd7ca"
      },
      "outputs": [
        {
          "output_type": "stream",
          "name": "stdout",
          "text": [
            "Generated Text:\n",
            "\n",
            "Mathematics and probability are interesting your love of a mightier way spent hate new prove day afloat truth so show me so lie to thee in my love ' so place me so now thee so you prove thee truth now now now lie me now truth ' love love so so so full to\n"
          ]
        }
      ],
      "source": [
        "# Your code here :\n",
        "# Number of words to generate\n",
        "next_words = 50\n",
        "\n",
        "# Your seed text\n",
        "seed_text = \"Mathematics and probability are interesting\"\n",
        "\n",
        "for _ in range(next_words):\n",
        "    token_list = tokenizer.texts_to_sequences([seed_text])[0]\n",
        "    token_list = pad_sequences([token_list], maxlen=max_sequence_len-1, padding='pre')\n",
        "    predicted = model.predict(token_list, verbose=0)\n",
        "    next_index = np.argmax(predicted, axis=-1)[0]\n",
        "    output_word = \"\"\n",
        "\n",
        "    for word, index in tokenizer.word_index.items():\n",
        "        if index == next_index:\n",
        "            output_word = word\n",
        "            break\n",
        "\n",
        "    seed_text += \" \" + output_word\n",
        "\n",
        "print(\"Generated Text:\\n\")\n",
        "print(seed_text)\n",
        "\n",
        "# Given text           : Generated text\n",
        "# My coffe is bad today: that with manners than i know thee so seen so dun 'greeing love now rare bright days now see forth thee so thou art old delight ' hate is well so now ' not the world staineth smells ' so old part so you blind in me most blind eyes\n",
        "# The car is fast      : in my love used eyes ' you ' now so now love kind so lie to thee now so grow old time will prove thee room thee so so love you see me 'greeing so true part so place me prove thee so bright ' so old part so be\n",
        "# Mathematics and probability are interesting : your love of a mightier way spent hate new prove day afloat truth so show me so lie to thee in my love ' so place me so now thee so you prove thee truth now now now lie me now truth ' love love so so so full to\n",
        "\n"
      ]
    },
    {
      "cell_type": "markdown",
      "metadata": {
        "id": "RLCpcYpc9x30"
      },
      "source": [
        "Experiment with at least 3 different seed_text strings and see what happens!"
      ]
    },
    {
      "cell_type": "code",
      "execution_count": null,
      "metadata": {
        "id": "6Vnyvc_U9x30",
        "colab": {
          "base_uri": "https://localhost:8080/"
        },
        "outputId": "ea105a1d-c954-4067-9c0e-a27725255fe5"
      },
      "outputs": [
        {
          "output_type": "stream",
          "name": "stdout",
          "text": [
            "\n",
            "Seed: I went to the toilet\n",
            "Generated Text:\n",
            " I went to the toilet world hath betray care to go ' best can now ' now care to be love 'greeing seen me now prove thee truth now deeds to me love now seen thee love love now dun seen their rose so so so so love so love so thee so now rare\n",
            "--------------------------------------------------------------------------------\n",
            "\n",
            "Seed: The dog went for a walk\n",
            "Generated Text:\n",
            " The dog went for a walk to injury of state of night so night of kings now true part blind eyes so seen afloat crime crime now thee gone so seen afloat mine eyes kind now so lie of kings afloat forth write the same doom of thee bright prove thee thee thee you so love\n",
            "--------------------------------------------------------------------------------\n",
            "\n",
            "Seed: carrot is black\n",
            "Generated Text:\n",
            " carrot is black and love with my five chief part most blind in me ' can hide thee thee not so love thee so true eyes bright moan thee truth so love so dun tend kind in thee so so rare 'greeing ' in me so ill blind most blind love in me\n",
            "--------------------------------------------------------------------------------\n"
          ]
        }
      ],
      "source": [
        "seeds = [\n",
        "    \"I went to the toilet\",\n",
        "    \"The dog went for a walk\",\n",
        "    \"carrot is black\"\n",
        "]\n",
        "\n",
        "next_words = 50\n",
        "\n",
        "for seed_text in seeds:\n",
        "    generated_text = seed_text\n",
        "    for _ in range(next_words):\n",
        "        token_list = tokenizer.texts_to_sequences([generated_text])[0]\n",
        "        token_list = pad_sequences([token_list], maxlen=max_sequence_len-1, padding='pre')\n",
        "        predicted = model.predict(token_list, verbose=0)\n",
        "        next_index = np.argmax(predicted, axis=-1)[0]\n",
        "\n",
        "        # Find word corresponding to predicted index\n",
        "        output_word = \"\"\n",
        "        for word, index in tokenizer.word_index.items():\n",
        "            if index == next_index:\n",
        "                output_word = word\n",
        "                break\n",
        "\n",
        "        generated_text += \" \" + output_word\n",
        "\n",
        "    print(\"\\nSeed:\", seed_text)\n",
        "    print(\"Generated Text:\\n\", generated_text)\n",
        "    print(\"-\" * 80)\n"
      ]
    }
  ],
  "metadata": {
    "accelerator": "GPU",
    "colab": {
      "provenance": []
    },
    "kernelspec": {
      "display_name": "venvsofia2",
      "language": "python",
      "name": "python3"
    },
    "language_info": {
      "codemirror_mode": {
        "name": "ipython",
        "version": 3
      },
      "file_extension": ".py",
      "mimetype": "text/x-python",
      "name": "python",
      "nbconvert_exporter": "python",
      "pygments_lexer": "ipython3",
      "version": "3.13.5"
    }
  },
  "nbformat": 4,
  "nbformat_minor": 0
}